{
 "cells": [
  {
   "cell_type": "markdown",
   "metadata": {},
   "source": [
    "# Document-Based Stores (MongoDB)"
   ]
  },
  {
   "cell_type": "markdown",
   "metadata": {},
   "source": [
    "### Task 1: Create a simple MongoDB out of this relational model"
   ]
  },
  {
   "cell_type": "markdown",
   "metadata": {},
   "source": [
    "This is  a toy DB about movies and actors who played roles in these movies. This DB is consisted of  \n",
    "\n",
    "- A \"Person\" table who has a unique id, and a name fields.\n",
    "\n",
    "- Another \"Movie\" table that has a unique id, a title, a country where it was made, and a year when it was released.\n",
    "\n",
    "- There is (m-n) or \"many-many\" relationship between these two tables (i.e basically, many actors can act in many movies, and the movie include many actors)\n",
    "- Therefore, we use the \"Roles\" table in which we can deduct which person has acted in which movie, and what role(s) they played.\n",
    "\n",
    "<img src=\"RDBSchema.png\" alt=\"3\" border=\"0\">"
   ]
  },
  {
   "cell_type": "markdown",
   "metadata": {},
   "source": [
    "#### Connect to the MongoDB server, and create a mongoDB with the name 'moviedb'"
   ]
  },
  {
   "cell_type": "code",
   "execution_count": 1,
   "metadata": {},
   "outputs": [],
   "source": [
    "##YOUR CODE HERER\n",
    "from pymongo import MongoClient\n",
    "\n",
    "mongo = \"localhost\"\n",
    "myclient = MongoClient(\"mongodb://\"+mongo+\":27017/\", username='admin', password='admin')\n",
    "db = myclient.moviedb\n"
   ]
  },
  {
   "cell_type": "markdown",
   "metadata": {},
   "source": [
    "#### Create Person/Actor collection"
   ]
  },
  {
   "cell_type": "code",
   "execution_count": 11,
   "metadata": {},
   "outputs": [],
   "source": [
    "##YOUR CODE HERER\n",
    "person_collection = db.moviedb.person"
   ]
  },
  {
   "cell_type": "markdown",
   "metadata": {},
   "source": [
    "#### Insert the data into the Person Table"
   ]
  },
  {
   "cell_type": "code",
   "execution_count": 12,
   "metadata": {},
   "outputs": [
    {
     "data": {
      "text/plain": [
       "InsertManyResult([ObjectId('68e7b8487527e2f2dc991b10'), ObjectId('68e7b8487527e2f2dc991b11'), ObjectId('68e7b8487527e2f2dc991b12'), ObjectId('68e7b8487527e2f2dc991b13')], acknowledged=True)"
      ]
     },
     "execution_count": 12,
     "metadata": {},
     "output_type": "execute_result"
    }
   ],
   "source": [
    "personList = [\n",
    "  { \"id\": 1, \"name\": \"Charlie Sheen\" },\n",
    "  { \"id\": 2, \"name\": \"Michael Douglas\"},\n",
    "  { \"id\": 3, \"name\": \"Martin Sheen\"},\n",
    "  { \"id\": 4, \"name\": \"Morgan Freeman\"}\n",
    "]\n",
    "\n",
    "...###YOUR CODE HERE\n",
    "db.moviedb.person.insert_many(personList)\n"
   ]
  },
  {
   "cell_type": "markdown",
   "metadata": {},
   "source": [
    "#### Creating rest of Collections (\"Movies\", \"Roles\")"
   ]
  },
  {
   "cell_type": "code",
   "execution_count": 5,
   "metadata": {},
   "outputs": [],
   "source": [
    "restcols = [\"Movies\",\"Roles\"]\n",
    "\n",
    "for col in restcols:\n",
    "    ...###YOUR CODE HERE\n",
    "    collection = db.moviedb[col]"
   ]
  },
  {
   "cell_type": "markdown",
   "metadata": {},
   "source": [
    "#### Inserting data into the movie Collection"
   ]
  },
  {
   "cell_type": "code",
   "execution_count": 6,
   "metadata": {},
   "outputs": [
    {
     "data": {
      "text/plain": [
       "InsertManyResult([ObjectId('68e7b78c7527e2f2dc991b07'), ObjectId('68e7b78c7527e2f2dc991b08'), ObjectId('68e7b78c7527e2f2dc991b09')], acknowledged=True)"
      ]
     },
     "execution_count": 6,
     "metadata": {},
     "output_type": "execute_result"
    }
   ],
   "source": [
    "moviescoll = db.moviedb.movies###YOUR CODE HERE\n",
    "\n",
    "movieList = [\n",
    "  { \"id\": 1, \"title\": \"Wall Street\", \"country\":\"USA\",\"year\":1987},\n",
    "  { \"id\": 2, \"title\": \"The American President\", \"country\":\"USA\",\"year\":1995},\n",
    "  { \"id\": 3, \"title\": \"The Shawshank Redemption\", \"country\":\"USA\",\"year\":1994},\n",
    "]\n",
    "\n",
    "...###YOUR CODE HERE\n",
    "moviescoll.insert_many(movieList)"
   ]
  },
  {
   "cell_type": "markdown",
   "metadata": {},
   "source": [
    "#### Inserting data into the roles Collection"
   ]
  },
  {
   "cell_type": "code",
   "execution_count": 7,
   "metadata": {},
   "outputs": [
    {
     "data": {
      "text/plain": [
       "InsertManyResult([ObjectId('68e7b7c77527e2f2dc991b0a'), ObjectId('68e7b7c77527e2f2dc991b0b'), ObjectId('68e7b7c77527e2f2dc991b0c'), ObjectId('68e7b7c77527e2f2dc991b0d'), ObjectId('68e7b7c77527e2f2dc991b0e'), ObjectId('68e7b7c77527e2f2dc991b0f')], acknowledged=True)"
      ]
     },
     "execution_count": 7,
     "metadata": {},
     "output_type": "execute_result"
    }
   ],
   "source": [
    "rolesCol = db.moviedb.roles\n",
    "\n",
    "roleList = [\n",
    "  { \"personId\": 1, \"movieId\": 1, \"role\":[\"Bud Fox\"]},\n",
    "  { \"personId\": 2, \"movieId\": 1, \"role\":[\"Carl Fox\"]},\n",
    "  { \"personId\": 3, \"movieId\": 1, \"role\":[\"Gordon Gekko\"]},\n",
    "  { \"personId\": 2, \"movieId\": 2, \"role\":[\"A.J. MacInerney\"]},\n",
    "  { \"personId\": 3, \"movieId\": 2, \"role\":[\"President Andrew Shepherd\"]},\n",
    "  { \"personId\": 4, \"movieId\": 3, \"role\":[\"Ellis Boyd 'Red' Redding\"]}\n",
    "]\n",
    "\n",
    "...###YOUR CODE HERE\n",
    "rolesCol.insert_many(roleList)"
   ]
  },
  {
   "cell_type": "markdown",
   "metadata": {},
   "source": [
    "### <font color ='green'>Just for your info</font>:\n",
    "\n",
    "#### Another Way of Modeling this M-N model in Mongo would be using the Forien Keys \n",
    "\n",
    "\n",
    "* Movies\n",
    "\n",
    "\n",
    "```[\n",
    "\n",
    "{\n",
    "\t\"_id\": 1,\n",
    "\t\"title\":\"Wall Street\",\n",
    "\t\"country\":\"USA\",\n",
    "\t\"year\":1987,\n",
    "\t\"persons\":[1,2]\n",
    "},\n",
    "\n",
    "{\n",
    "\t\"_id\": 2,\n",
    "\t\"title\":\"The American President\",\n",
    "\t\"country\":\"USA\",\n",
    "\t\"year\":1995,\n",
    "\t\"persons\":[2]\n",
    "}]\n",
    "```\n",
    "* Actors\n",
    "\n",
    "```\n",
    "[{\n",
    "    \"_id\": 1,\n",
    "    \"name\": \"Charlie Sheen\",\n",
    "    \"movies\":[\n",
    "    {\"role\": \"Bud Fox\", \"movie_id\":1}\n",
    "    ]\n",
    "},\n",
    "\n",
    "{\n",
    "    \"_id\": 2,\n",
    "    \"name\": \"Micheal Douglas\",\n",
    "    \"movies\":[\n",
    "    {\"role\": \"Gordon Geko\", \"movie_id\":1},\n",
    "    {\"role\": \"President Andrew Shepherd\", \"movie_id\":2}\n",
    "    ]\n",
    "}\n",
    "\n",
    "] ```\n"
   ]
  },
  {
   "cell_type": "markdown",
   "metadata": {},
   "source": [
    "#### Get all actors in your Mongo DB"
   ]
  },
  {
   "cell_type": "code",
   "execution_count": 29,
   "metadata": {},
   "outputs": [
    {
     "name": "stdout",
     "output_type": "stream",
     "text": [
      "{'_id': ObjectId('68e7b8487527e2f2dc991b10'), 'id': 1, 'name': 'Charlie Sheen'}\n",
      "{'_id': ObjectId('68e7b8487527e2f2dc991b11'), 'id': 2, 'name': 'Michael Douglas'}\n",
      "{'_id': ObjectId('68e7b8487527e2f2dc991b12'), 'id': 3, 'name': 'Martin Sheen'}\n",
      "{'_id': ObjectId('68e7b8487527e2f2dc991b13'), 'id': 4, 'name': 'Morgan Freeman'}\n"
     ]
    }
   ],
   "source": [
    "###YOUR CODE HERE\n",
    "data = db.moviedb.person.find({})\n",
    "\n",
    "for person in data:\n",
    "    print(person)"
   ]
  },
  {
   "cell_type": "markdown",
   "metadata": {},
   "source": [
    "#### Get actors with names start with 'C' letter"
   ]
  },
  {
   "cell_type": "code",
   "execution_count": 32,
   "metadata": {},
   "outputs": [
    {
     "name": "stdout",
     "output_type": "stream",
     "text": [
      "{'_id': ObjectId('68e7b8487527e2f2dc991b10'), 'id': 1, 'name': 'Charlie Sheen'}\n"
     ]
    }
   ],
   "source": [
    "###YOUR CODE HERE\n",
    "data = db.moviedb.person.find({\"name\": {\"$regex\": \"^C\"}})\n",
    "\n",
    "for person in data:\n",
    "    print(person)"
   ]
  },
  {
   "cell_type": "markdown",
   "metadata": {},
   "source": [
    "#### Get all Movies sorted from recent to old! (get only the title and year fields)"
   ]
  },
  {
   "cell_type": "code",
   "execution_count": 34,
   "metadata": {},
   "outputs": [
    {
     "name": "stdout",
     "output_type": "stream",
     "text": [
      "{'title': 'The American President', 'year': 1995}\n",
      "{'title': 'The Shawshank Redemption', 'year': 1994}\n",
      "{'title': 'Wall Street', 'year': 1987}\n"
     ]
    }
   ],
   "source": [
    "###YOUR CODE HERE\n",
    "data = db.moviedb.movies.find({}, {\"_id\": 0, \"title\": 1, \"year\": 1}).sort({\"year\": -1})\n",
    "\n",
    "for movie in data:\n",
    "    print(movie)"
   ]
  },
  {
   "cell_type": "markdown",
   "metadata": {},
   "source": [
    "#### Get all Movies released in the 90s (after year (1990) and before 2000) ordered from old to recent."
   ]
  },
  {
   "cell_type": "code",
   "execution_count": 38,
   "metadata": {},
   "outputs": [
    {
     "name": "stdout",
     "output_type": "stream",
     "text": [
      "{'_id': ObjectId('68e7b78c7527e2f2dc991b09'), 'id': 3, 'title': 'The Shawshank Redemption', 'country': 'USA', 'year': 1994}\n",
      "{'_id': ObjectId('68e7b78c7527e2f2dc991b08'), 'id': 2, 'title': 'The American President', 'country': 'USA', 'year': 1995}\n"
     ]
    }
   ],
   "source": [
    "###YOUR CODE HERE\n",
    "data = db.moviedb.movies.find({\"$and\": [{\"year\": {\"$gt\": 1990}}, {\"year\": {\"$lt\": 2000}}]}).sort({\"year\": 1})\n",
    "\n",
    "for movie in data:\n",
    "    print(movie)"
   ]
  },
  {
   "cell_type": "markdown",
   "metadata": {},
   "source": [
    "#### Get Movies and Actors from your \"movies\" DB\n",
    "* Hint : use the <code>'$lookup'</code> operator.\n",
    "* The Result should be something like the following:\n",
    "<code>\n",
    "Charlie Sheen : Wall Street\n",
    "Michael Douglas : Wall Street\n",
    "Martin Sheen : Wall Street\n",
    "Michael Douglas : The American President\n",
    "Martin Sheen : The American President\n",
    "Morgan Freeman : The Shawshank Redemption\n",
    "</code>"
   ]
  },
  {
   "cell_type": "code",
   "execution_count": 57,
   "metadata": {},
   "outputs": [
    {
     "name": "stdout",
     "output_type": "stream",
     "text": [
      "Charlie Sheen : Wall Street\n",
      "Michael Douglas : Wall Street\n",
      "Martin Sheen : Wall Street\n",
      "Michael Douglas : The American President\n",
      "Martin Sheen : The American President\n",
      "Morgan Freeman : The Shawshank Redemption\n"
     ]
    }
   ],
   "source": [
    "###YOUR CODE HERE\n",
    "pipeline = [\n",
    "    {\n",
    "        \"$lookup\": {\n",
    "            \"from\": \"moviedb.person\",\n",
    "            \"localField\": \"personId\",\n",
    "            \"foreignField\": \"id\",\n",
    "            \"as\": \"actor\"\n",
    "        }\n",
    "    },\n",
    "    { \"$unwind\": \"$actor\"},\n",
    "    {\n",
    "        \"$lookup\": {\n",
    "            \"from\": \"moviedb.movies\",\n",
    "            \"localField\": \"movieId\",\n",
    "            \"foreignField\": \"id\",\n",
    "            \"as\": \"movie_info\"\n",
    "        }\n",
    "    },\n",
    "    { \"$unwind\": \"$movie_info\"},\n",
    "    {\n",
    "        \"$project\": {\n",
    "            \"_id\": 0,\n",
    "            \"actor_name\": \"$actor.name\",\n",
    "            \"movie_title\": \"$movie_info.title\"\n",
    "        }\n",
    "    }\n",
    "]\n",
    "\n",
    "data = db.moviedb.roles.aggregate(pipeline)\n",
    "\n",
    "for doc in data:\n",
    "    print(f\"{doc['actor_name']} : {doc['movie_title']}\")"
   ]
  },
  {
   "cell_type": "markdown",
   "metadata": {},
   "source": [
    "#### For each Actor, get count of \"Movies\" he acted in."
   ]
  },
  {
   "cell_type": "code",
   "execution_count": 64,
   "metadata": {},
   "outputs": [
    {
     "name": "stdout",
     "output_type": "stream",
     "text": [
      "2 - Michael Douglas: acts in 2 movies\n",
      "3 - Martin Sheen: acts in 2 movies\n",
      "1 - Charlie Sheen: acts in 1 movies\n",
      "4 - Morgan Freeman: acts in 1 movies\n"
     ]
    }
   ],
   "source": [
    "###YOUR CODE HERE\n",
    "pipeline = [\n",
    "    {\n",
    "        \"$lookup\": {\n",
    "            \"from\": \"moviedb.person\",\n",
    "            \"localField\": \"personId\",\n",
    "            \"foreignField\": \"id\",\n",
    "            \"as\": \"actor\"\n",
    "        }\n",
    "    },\n",
    "    { \"$unwind\": \"$actor\" },\n",
    "    {\n",
    "        \"$lookup\": {\n",
    "            \"from\": \"moviedb.movies\",\n",
    "            \"localField\": \"movieId\",\n",
    "            \"foreignField\": \"id\",\n",
    "            \"as\": \"movieInfo\"\n",
    "        }\n",
    "    },\n",
    "    { \"$unwind\": \"$movieInfo\" },\n",
    "    {\n",
    "        \"$group\": {\n",
    "            \"_id\": { \"id\": \"$actor.id\", \"name\": \"$actor.name\" },  # group key is an object\n",
    "            \"totalMovies\": { \"$sum\": 1 }                           # count movies\n",
    "        }\n",
    "    },\n",
    "    {\n",
    "        \"$sort\": { \"totalMovies\": -1 }\n",
    "    }\n",
    "]\n",
    "\n",
    "data = db.moviedb.roles.aggregate(pipeline)\n",
    "\n",
    "for actor in data:\n",
    "    print(f\"{actor['_id']['id']} - {actor['_id']['name']}: acts in {actor['totalMovies']} movies\")\n"
   ]
  },
  {
   "cell_type": "markdown",
   "metadata": {},
   "source": [
    "#### In your DB, list the movies that every Actor played"
   ]
  },
  {
   "cell_type": "code",
   "execution_count": 66,
   "metadata": {},
   "outputs": [],
   "source": [
    "#Im implementing this according to my understanding (which is movies that has all actors played in them)\n",
    "\n",
    "###YOUR CODE HERE\n",
    "total_actors = db['moviedb.person'].count_documents({})\n",
    "\n",
    "pipeline = [\n",
    "    {\n",
    "        \"$lookup\": {\n",
    "            \"from\": \"moviedb.person\",\n",
    "            \"localField\": \"personId\",\n",
    "            \"foreignField\": \"id\",\n",
    "            \"as\": \"actor\"\n",
    "        }\n",
    "    },\n",
    "    { \"$unwind\": \"$actor\" },\n",
    "    {\n",
    "        \"$lookup\": {\n",
    "            \"from\": \"moviedb.movies\",\n",
    "            \"localField\": \"movieId\",\n",
    "            \"foreignField\": \"id\",\n",
    "            \"as\": \"movieInfo\"\n",
    "        }\n",
    "    },\n",
    "    { \"$unwind\": \"$movieInfo\"},\n",
    "    {\n",
    "        \"$group\": { \n",
    "            \"_id\": { \"id\": \"$movieInfo.id\", \"movie\": \"$movieInfo.title\"},\n",
    "            \"actors\": { \"$addToSet\": \"$actor.name\" }\n",
    "        }\n",
    "    },\n",
    "    {\n",
    "        \"$match\": {\n",
    "            \"$expr\": { \"$eq\": [ { \"$size\": \"$actors\" }, total_actors ] }\n",
    "        }\n",
    "    },\n",
    "    {\n",
    "        \"$project\": {\n",
    "            \"_id\": 0,\n",
    "            \"movieId\": \"$_id.movieId\",\n",
    "            \"title\": \"$_id.title\",\n",
    "            \"actors\": 1\n",
    "        }\n",
    "    }\n",
    "]\n",
    "\n",
    "data = db.moviedb.roles.aggregate(pipeline)\n",
    "\n",
    "for movie in data:\n",
    "    print(f\"{movie['title']}: {', '.join(movie['actors'])}\")"
   ]
  },
  {
   "cell_type": "markdown",
   "metadata": {},
   "source": [
    "#### Get the Persons/Actors who acted in \"Wall Street\" movie\n",
    "- Hint use `$lookup` , `$match` operators in the aggregation piepeline"
   ]
  },
  {
   "cell_type": "code",
   "execution_count": 76,
   "metadata": {},
   "outputs": [
    {
     "name": "stdout",
     "output_type": "stream",
     "text": [
      "Wall Street: Michael Douglas, Martin Sheen, Charlie Sheen\n"
     ]
    }
   ],
   "source": [
    "###YOUR CODE HERE\n",
    "pipeline = [\n",
    "    {\n",
    "        \"$lookup\": {\n",
    "            \"from\": \"moviedb.person\",\n",
    "            \"localField\": \"personId\",\n",
    "            \"foreignField\": \"id\",\n",
    "            \"as\": \"actor\"\n",
    "        }\n",
    "    },\n",
    "    { \"$unwind\": \"$actor\" },\n",
    "    {\n",
    "        \"$lookup\": {\n",
    "            \"from\": \"moviedb.movies\",\n",
    "            \"localField\": \"movieId\",\n",
    "            \"foreignField\": \"id\",\n",
    "            \"as\": \"movieInfo\"\n",
    "        }\n",
    "    },\n",
    "    { \"$unwind\": \"$movieInfo\"},\n",
    "    {\n",
    "        \"$group\": { \n",
    "            \"_id\": { \"id\": \"$movieInfo.id\", \"movieTitle\": \"$movieInfo.title\"},\n",
    "            \"actors\": { \"$addToSet\": \"$actor.name\" }\n",
    "        }\n",
    "    },\n",
    "    {\n",
    "        \"$match\": {\n",
    "            \"_id.movieTitle\": \"Wall Street\"\n",
    "        }\n",
    "    },\n",
    "    {\n",
    "        \"$project\": {\n",
    "            \"_id\": 0,\n",
    "            \"movieId\": \"$_id.id\",\n",
    "            \"movieTitle\": \"$_id.movieTitle\",\n",
    "            \"actors\": 1\n",
    "        }\n",
    "    }\n",
    "]\n",
    "\n",
    "data = db.moviedb.roles.aggregate(pipeline)\n",
    "\n",
    "for movie in data:\n",
    "    print(f\"{movie['movieTitle']}: {', '.join(movie['actors'])}\")"
   ]
  },
  {
   "cell_type": "markdown",
   "metadata": {},
   "source": [
    "#### Get the Movies in which \"Micheal Douglas\" has played a role in"
   ]
  },
  {
   "cell_type": "code",
   "execution_count": 78,
   "metadata": {},
   "outputs": [
    {
     "name": "stdout",
     "output_type": "stream",
     "text": [
      "Michael Douglas: Wall Street, The American President\n"
     ]
    }
   ],
   "source": [
    "###YOUR CODE HERE\n",
    "###YOUR CODE HERE\n",
    "pipeline = [\n",
    "    {\n",
    "        \"$lookup\": {\n",
    "            \"from\": \"moviedb.person\",\n",
    "            \"localField\": \"personId\",\n",
    "            \"foreignField\": \"id\",\n",
    "            \"as\": \"actor\"\n",
    "        }\n",
    "    },\n",
    "    { \"$unwind\": \"$actor\" },\n",
    "    {\n",
    "        \"$lookup\": {\n",
    "            \"from\": \"moviedb.movies\",\n",
    "            \"localField\": \"movieId\",\n",
    "            \"foreignField\": \"id\",\n",
    "            \"as\": \"movieInfo\"\n",
    "        }\n",
    "    },\n",
    "    { \"$unwind\": \"$movieInfo\"},\n",
    "    {\n",
    "        \"$group\": { \n",
    "            \"_id\": { \"id\": \"$actor.id\", \"actorName\": \"$actor.name\"},\n",
    "            \"movies\": { \"$addToSet\": \"$movieInfo.title\" }\n",
    "        }\n",
    "    },\n",
    "    {\n",
    "        \"$match\": {\n",
    "            \"_id.actorName\": \"Michael Douglas\"\n",
    "        }\n",
    "    },\n",
    "    {\n",
    "        \"$project\": {\n",
    "            \"_id\": 0,\n",
    "            \"actorId\": \"$_id.id\",\n",
    "            \"actorName\": \"$_id.actorName\",\n",
    "            \"movies\": 1\n",
    "        }\n",
    "    }\n",
    "]\n",
    "\n",
    "data = db.moviedb.roles.aggregate(pipeline)\n",
    "\n",
    "for actor in data:\n",
    "    print(f\"{actor['actorName']}: {', '.join(actor['movies'])}\")"
   ]
  },
  {
   "cell_type": "markdown",
   "metadata": {},
   "source": [
    "#### Get count of \"Movies\" in your DB"
   ]
  },
  {
   "cell_type": "code",
   "execution_count": 79,
   "metadata": {},
   "outputs": [
    {
     "name": "stdout",
     "output_type": "stream",
     "text": [
      "3\n"
     ]
    }
   ],
   "source": [
    "###YOUR CODE HERE\n",
    "total_movies = db.moviedb.movies.count_documents({})\n",
    "print(total_movies)"
   ]
  },
  {
   "cell_type": "markdown",
   "metadata": {},
   "source": [
    "#### update the year of the 'Wall Street' movie was released in to be 2000(which is not true BTW :)\n",
    "- Show that movie before and After updating it"
   ]
  },
  {
   "cell_type": "code",
   "execution_count": 82,
   "metadata": {},
   "outputs": [
    {
     "name": "stdout",
     "output_type": "stream",
     "text": [
      "{'_id': ObjectId('68e7b78c7527e2f2dc991b07'), 'id': 1, 'title': 'Wall Street', 'country': 'USA', 'year': 1987}\n",
      "{'_id': ObjectId('68e7b78c7527e2f2dc991b07'), 'id': 1, 'title': 'Wall Street', 'country': 'USA', 'year': 2000}\n"
     ]
    }
   ],
   "source": [
    "###YOUR CODE HERE\n",
    "data = db.moviedb.movies.find({\"title\": \"Wall Street\"})\n",
    "for wall_street in data:\n",
    "    print(wall_street)\n",
    "\n",
    "db.moviedb.movies.update_one(\n",
    "    { \"title\": \"Wall Street\" }, # filter\n",
    "    { \"$set\": { \"year\": 2000}}\n",
    ")\n",
    "\n",
    "data = db.moviedb.movies.find({\"title\": \"Wall Street\"})\n",
    "for wall_street in data:\n",
    "    print(wall_street)"
   ]
  },
  {
   "cell_type": "markdown",
   "metadata": {},
   "source": [
    "####  Delete all the persons with names start with 'M' letter."
   ]
  },
  {
   "cell_type": "code",
   "execution_count": 92,
   "metadata": {},
   "outputs": [
    {
     "name": "stdout",
     "output_type": "stream",
     "text": [
      "Charlie Sheen\n",
      "Michael Douglas\n",
      "Martin Sheen\n",
      "Morgan Freeman\n",
      "Charlie Sheen\n"
     ]
    }
   ],
   "source": [
    "###YOUR CODE HERE\n",
    "data = db.moviedb.person.find({})\n",
    "for actor in data:\n",
    "    print(actor[\"name\"])\n",
    "\n",
    "result = db.moviedb.person.delete_many({\"name\": {\"$regex\": \"^M\"}})\n",
    "\n",
    "data = db.moviedb.person.find({})\n",
    "for actor in data:\n",
    "    print(actor[\"name\"])"
   ]
  },
  {
   "cell_type": "markdown",
   "metadata": {},
   "source": [
    "### Task 2: Extend your Mongo-\"MovieDB\" \n",
    "\n",
    "Imagine now that we are going to extend our DB with new movies, actors, even with new directors.\n",
    "\n",
    "- We add <b>**\"The matrix\"**</b> movie which was released in <b> USA, (1999)</b>, and has a new property/field \"Tagline\" <b>(\"Welcome to the Real World\")</b>.\n",
    " \n",
    "- We will also add 4 new actors (Person):\n",
    "    - **\"Keanu Reeves\"** who was born in (1964). <font color='green'>Note:</font> \"born\" property is also new.\n",
    "    - **\"Carrie-Anne Moss\"** who was born in (1967).\n",
    "    - **\"Laurence Fishburne\"** who was born in (1960).\n",
    "    - **\"Hugo Weaving\"** who was born in (1960).\n",
    "    \n",
    "- Moreover, we add 2 directors (Person) :\n",
    "    - **\"Lilly Wachowski\"**, born in (1967)\n",
    "    - **\"Lana Wachowski\"**, born in(1965)\n",
    "- For these directors specify one more label/field as (\"Director\"). (You can add this while inserting the director documents)\n",
    "    \n",
    " \n",
    "- We will also create a new <b>collection \"Directed\" </b> that is directed from the later 2 directors to \"the Matrix\" movie."
   ]
  },
  {
   "cell_type": "markdown",
   "metadata": {},
   "source": [
    "#### Add the Movie \"The Matrix\" with the provided data to the Movies collection"
   ]
  },
  {
   "cell_type": "code",
   "execution_count": 93,
   "metadata": {},
   "outputs": [
    {
     "name": "stdout",
     "output_type": "stream",
     "text": [
      "Inserted movie with _id: 68e818ac7527e2f2dc991b16\n"
     ]
    }
   ],
   "source": [
    "###YOUR CODE HERE\n",
    "new_movie = {\n",
    "    \"title\": \"The Matrix\",\n",
    "    \"country\": \"USA\",\n",
    "    \"year\": 1999,\n",
    "    \"tagline\": \"Welcome to the Real World\"\n",
    "}\n",
    "\n",
    "result = db.moviedb.movies.insert_one(new_movie)\n",
    "\n",
    "print(f\"Inserted movie with _id: {result.inserted_id}\")"
   ]
  },
  {
   "cell_type": "markdown",
   "metadata": {},
   "source": [
    "#### Insert the new 4 actors to the person collection"
   ]
  },
  {
   "cell_type": "code",
   "execution_count": 96,
   "metadata": {},
   "outputs": [
    {
     "name": "stdout",
     "output_type": "stream",
     "text": [
      "Inserted actors with ids: [ObjectId('68e8197c7527e2f2dc991b1f'), ObjectId('68e8197c7527e2f2dc991b20'), ObjectId('68e8197c7527e2f2dc991b21'), ObjectId('68e8197c7527e2f2dc991b22')]\n"
     ]
    }
   ],
   "source": [
    "#Notice, How is easy to add a new feild compared to the RDB\n",
    "newActorList = [\n",
    "  { \"id\": 5, \"name\": \"Keanu Reeves\", \"born\":1964 },\n",
    "  { \"id\": 6, \"name\": \"Carrie-Anne Moss\", \"born\":1967},\n",
    "  { \"id\": 7, \"name\": \"Laurence Fishburne\", \"born\":1960},\n",
    "  { \"id\": 8, \"name\": \"Hugo Weaving\", \"born\":1960}\n",
    "]\n",
    "\n",
    "###YOUR CODE HERE\n",
    "results = db.moviedb.person.insert_many(newActorList)\n",
    "\n",
    "print(f\"Inserted actors with ids: {results.inserted_ids}\")"
   ]
  },
  {
   "cell_type": "markdown",
   "metadata": {},
   "source": [
    "#### Insert the new 2 directors to the person collection"
   ]
  },
  {
   "cell_type": "code",
   "execution_count": 97,
   "metadata": {},
   "outputs": [
    {
     "name": "stdout",
     "output_type": "stream",
     "text": [
      "Inserted director IDs: [ObjectId('68e819d47527e2f2dc991b23'), ObjectId('68e819d47527e2f2dc991b24')]\n"
     ]
    }
   ],
   "source": [
    "###YOUR CODE HERE\n",
    "directors = [\n",
    "    { \"id\": 9, \"name\": \"Lilly Wachowski\", \"born\": 1967, \"role\": \"Director\"},\n",
    "    { \"id\": 10, \"name\": \"Lana Wachowski\", \"born\": 1965, \"role\": \"Director\"}\n",
    "]\n",
    "\n",
    "result = db.moviedb.person.insert_many(directors)\n",
    "\n",
    "print(f\"Inserted director IDs: {result.inserted_ids}\")\n"
   ]
  },
  {
   "cell_type": "markdown",
   "metadata": {},
   "source": [
    "#### Create the \"Directed\" collection, and insert the data into it "
   ]
  },
  {
   "cell_type": "code",
   "execution_count": 98,
   "metadata": {},
   "outputs": [
    {
     "name": "stdout",
     "output_type": "stream",
     "text": [
      "Inserted Directed IDs: [ObjectId('68e81a4c7527e2f2dc991b25'), ObjectId('68e81a4c7527e2f2dc991b26')]\n"
     ]
    }
   ],
   "source": [
    "###YOUR CODE HERE\n",
    "# Find \"The Matrix\" movie\n",
    "matrix_movie = db.moviedb.movies.find_one({\"title\": \"The Matrix\"})\n",
    "matrix_id = matrix_movie[\"_id\"]\n",
    "\n",
    "# Find the two directors\n",
    "directors = list(db.moviedb.person.find(\n",
    "    {\"name\": {\"$in\": [\"Lilly Wachowski\", \"Lana Wachowski\"]}},\n",
    "    {\"_id\": 1, \"name\": 1}\n",
    "))\n",
    "\n",
    "# Create the Directed documents\n",
    "directed_docs = [\n",
    "    {\"directorId\": director[\"_id\"], \"directorName\": director[\"name\"], \"movieId\": matrix_id, \"movieTitle\": \"The Matrix\"}\n",
    "    for director in directors\n",
    "]\n",
    "\n",
    "# Insert into 'Directed' collection\n",
    "result = db.moviedb.Directed.insert_many(directed_docs)\n",
    "\n",
    "print(f\"Inserted Directed IDs: {result.inserted_ids}\")\n"
   ]
  },
  {
   "cell_type": "markdown",
   "metadata": {},
   "source": [
    "#### Get only the directors from the person collection (i.e. persons marked with the label \"Director\")"
   ]
  },
  {
   "cell_type": "code",
   "execution_count": 99,
   "metadata": {},
   "outputs": [
    {
     "name": "stdout",
     "output_type": "stream",
     "text": [
      "{'name': 'Lilly Wachowski', 'born': 1967}\n",
      "{'name': 'Lana Wachowski', 'born': 1965}\n"
     ]
    }
   ],
   "source": [
    "###YOUR CODE HERE\n",
    "directors = db.moviedb.person.find(\n",
    "    {\"role\": \"Director\"},          # filter for role = Director\n",
    "    {\"_id\": 0, \"name\": 1, \"born\": 1}\n",
    ")\n",
    "\n",
    "for director in directors:\n",
    "    print(director)"
   ]
  },
  {
   "cell_type": "markdown",
   "metadata": {},
   "source": [
    "#### Perform a query that get persons (names, and born year) who Directed \"The Matrix\" movie."
   ]
  },
  {
   "cell_type": "code",
   "execution_count": 104,
   "metadata": {},
   "outputs": [
    {
     "name": "stdout",
     "output_type": "stream",
     "text": [
      "{'name': 'Lilly Wachowski', 'birthYear': 1967}\n",
      "{'name': 'Lana Wachowski', 'birthYear': 1965}\n"
     ]
    }
   ],
   "source": [
    "###YOUR CODE HERE\n",
    "\n",
    "pipeline = [\n",
    "    {\n",
    "        \"$match\": {\"movieTitle\": \"The Matrix\"}\n",
    "    },\n",
    "    {\n",
    "        \"$lookup\": {\n",
    "            \"from\": \"moviedb.person\",             \n",
    "            \"localField\": \"directorId\",\n",
    "            \"foreignField\": \"_id\",\n",
    "            \"as\": \"directorInfo\"\n",
    "        }\n",
    "    },\n",
    "    {\"$unwind\": \"$directorInfo\"},\n",
    "    {\n",
    "        \"$project\": {\n",
    "            \"_id\": 0,\n",
    "            \"name\": \"$directorInfo.name\",\n",
    "            \"birthYear\": \"$directorInfo.born\"\n",
    "        }\n",
    "    }\n",
    "]\n",
    "\n",
    "results = db.moviedb.Directed.aggregate(pipeline)\n",
    "\n",
    "for director in results:\n",
    "    print(director)\n"
   ]
  },
  {
   "cell_type": "markdown",
   "metadata": {},
   "source": [
    " ## How long did it take you to solve the homework?\n",
    " \n",
    "Please answer as precisely as you can. It does not affect your points or grade in any way. It is okey, if it took 0.5 hours or 24 hours. The collected information will be used to improve future homeworks."
   ]
  },
  {
   "cell_type": "markdown",
   "metadata": {},
   "source": [
    "<font color=\"red\"><b>Answer:</b></font>"
   ]
  },
  {
   "cell_type": "markdown",
   "metadata": {},
   "source": [
    "**<center> <font color='red'>THANK YOU FOR YOUR EFFORT!</font></center>**"
   ]
  }
 ],
 "metadata": {
  "kernelspec": {
   "display_name": "Python 3 (ipykernel)",
   "language": "python",
   "name": "python3"
  },
  "language_info": {
   "codemirror_mode": {
    "name": "ipython",
    "version": 3
   },
   "file_extension": ".py",
   "mimetype": "text/x-python",
   "name": "python",
   "nbconvert_exporter": "python",
   "pygments_lexer": "ipython3",
   "version": "3.13.5"
  }
 },
 "nbformat": 4,
 "nbformat_minor": 4
}
