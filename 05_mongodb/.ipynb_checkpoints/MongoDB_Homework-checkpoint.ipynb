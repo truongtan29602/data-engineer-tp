{
 "cells": [
  {
   "cell_type": "markdown",
   "metadata": {},
   "source": [
    "# Document-Based Stores (MongoDB)"
   ]
  },
  {
   "cell_type": "markdown",
   "metadata": {},
   "source": [
    "### Task 1: Create a simple MongoDB out of this relational model"
   ]
  },
  {
   "cell_type": "markdown",
   "metadata": {},
   "source": [
    "This is  a toy DB about movies and actors who played roles in these movies. This DB is consisted of  \n",
    "\n",
    "- A \"Person\" table who has a unique id, and a name fields.\n",
    "\n",
    "- Another \"Movie\" table that has a unique id, a title, a country where it was made, and a year when it was released.\n",
    "\n",
    "- There is (m-n) or \"many-many\" relationship between these two tables (i.e basically, many actors can act in many movies, and the movie include many actors)\n",
    "- Therefore, we use the \"Roles\" table in which we can deduct which person has acted in which movie, and what role(s) they played.\n",
    "\n",
    "<img src=\"RDBSchema.png\" alt=\"3\" border=\"0\">"
   ]
  },
  {
   "cell_type": "markdown",
   "metadata": {},
   "source": [
    "#### Connect to the MongoDB server, and create a mongoDB with the name 'moviedb'"
   ]
  },
  {
   "cell_type": "code",
   "execution_count": null,
   "metadata": {},
   "outputs": [],
   "source": [
    "##YOUR CODE HERER"
   ]
  },
  {
   "cell_type": "markdown",
   "metadata": {},
   "source": [
    "#### Create Person/Actor collection"
   ]
  },
  {
   "cell_type": "code",
   "execution_count": null,
   "metadata": {},
   "outputs": [],
   "source": [
    "##YOUR CODE HERER"
   ]
  },
  {
   "cell_type": "markdown",
   "metadata": {},
   "source": [
    "#### Insert the data into the Person Table"
   ]
  },
  {
   "cell_type": "code",
   "execution_count": null,
   "metadata": {},
   "outputs": [],
   "source": [
    "personList = [\n",
    "  { \"id\": 1, \"name\": \"Charlie Sheen\" },\n",
    "  { \"id\": 2, \"name\": \"Michael Douglas\"},\n",
    "  { \"id\": 3, \"name\": \"Martin Sheen\"},\n",
    "  { \"id\": 4, \"name\": \"Morgan Freeman\"}\n",
    "]\n",
    "\n",
    "...###YOUR CODE HERE\n",
    "\n"
   ]
  },
  {
   "cell_type": "markdown",
   "metadata": {},
   "source": [
    "#### Creating rest of Collections (\"Movies\", \"Roles\")"
   ]
  },
  {
   "cell_type": "code",
   "execution_count": null,
   "metadata": {},
   "outputs": [],
   "source": [
    "restcols = [\"Movies\",\"Roles\"]\n",
    "\n",
    "for col in restcols:\n",
    "    ...###YOUR CODE HERE"
   ]
  },
  {
   "cell_type": "markdown",
   "metadata": {},
   "source": [
    "#### Inserting data into the movie Collection"
   ]
  },
  {
   "cell_type": "code",
   "execution_count": null,
   "metadata": {},
   "outputs": [],
   "source": [
    "moviescoll = ...###YOUR CODE HERE\n",
    "\n",
    "movieList = [\n",
    "  { \"id\": 1, \"title\": \"Wall Street\", \"country\":\"USA\",\"year\":1987},\n",
    "  { \"id\": 2, \"title\": \"The American President\", \"country\":\"USA\",\"year\":1995},\n",
    "  { \"id\": 3, \"title\": \"The Shawshank Redemption\", \"country\":\"USA\",\"year\":1994},\n",
    "]\n",
    "\n",
    "...###YOUR CODE HERE"
   ]
  },
  {
   "cell_type": "markdown",
   "metadata": {},
   "source": [
    "#### Inserting data into the roles Collection"
   ]
  },
  {
   "cell_type": "code",
   "execution_count": null,
   "metadata": {},
   "outputs": [],
   "source": [
    "rolesCol = ...\n",
    "\n",
    "roleList = [\n",
    "  { \"personId\": 1, \"movieId\": 1, \"role\":[\"Bud Fox\"]},\n",
    "  { \"personId\": 2, \"movieId\": 1, \"role\":[\"Carl Fox\"]},\n",
    "  { \"personId\": 3, \"movieId\": 1, \"role\":[\"Gordon Gekko\"]},\n",
    "  { \"personId\": 2, \"movieId\": 2, \"role\":[\"A.J. MacInerney\"]},\n",
    "  { \"personId\": 3, \"movieId\": 2, \"role\":[\"President Andrew Shepherd\"]},\n",
    "  { \"personId\": 4, \"movieId\": 3, \"role\":[\"Ellis Boyd 'Red' Redding\"]}\n",
    "]\n",
    "\n",
    "...###YOUR CODE HERE"
   ]
  },
  {
   "cell_type": "markdown",
   "metadata": {},
   "source": [
    "### <font color ='green'>Just for your info</font>:\n",
    "\n",
    "#### Another Way of Modeling this M-N model in Mongo would be using the Forien Keys \n",
    "\n",
    "\n",
    "* Movies\n",
    "\n",
    "\n",
    "```[\n",
    "\n",
    "{\n",
    "\t\"_id\": 1,\n",
    "\t\"title\":\"Wall Street\",\n",
    "\t\"country\":\"USA\",\n",
    "\t\"year\":1987,\n",
    "\t\"persons\":[1,2]\n",
    "},\n",
    "\n",
    "{\n",
    "\t\"_id\": 2,\n",
    "\t\"title\":\"The American President\",\n",
    "\t\"country\":\"USA\",\n",
    "\t\"year\":1995,\n",
    "\t\"persons\":[2]\n",
    "}]\n",
    "```\n",
    "* Actors\n",
    "\n",
    "```\n",
    "[{\n",
    "    \"_id\": 1,\n",
    "    \"name\": \"Charlie Sheen\",\n",
    "    \"movies\":[\n",
    "    {\"role\": \"Bud Fox\", \"movie_id\":1}\n",
    "    ]\n",
    "},\n",
    "\n",
    "{\n",
    "    \"_id\": 2,\n",
    "    \"name\": \"Micheal Douglas\",\n",
    "    \"movies\":[\n",
    "    {\"role\": \"Gordon Geko\", \"movie_id\":1},\n",
    "    {\"role\": \"President Andrew Shepherd\", \"movie_id\":2}\n",
    "    ]\n",
    "}\n",
    "\n",
    "] ```\n"
   ]
  },
  {
   "cell_type": "markdown",
   "metadata": {},
   "source": [
    "#### Get all actors in your Mongo DB"
   ]
  },
  {
   "cell_type": "code",
   "execution_count": null,
   "metadata": {},
   "outputs": [],
   "source": [
    "###YOUR CODE HERE"
   ]
  },
  {
   "cell_type": "markdown",
   "metadata": {},
   "source": [
    "#### Get actors with names start with 'C' letter"
   ]
  },
  {
   "cell_type": "code",
   "execution_count": null,
   "metadata": {},
   "outputs": [],
   "source": [
    "###YOUR CODE HERE"
   ]
  },
  {
   "cell_type": "markdown",
   "metadata": {},
   "source": [
    "#### Get all Movies sorted from recent to old! (get only the title and year fields)"
   ]
  },
  {
   "cell_type": "code",
   "execution_count": null,
   "metadata": {},
   "outputs": [],
   "source": [
    "###YOUR CODE HERE"
   ]
  },
  {
   "cell_type": "markdown",
   "metadata": {},
   "source": [
    "#### Get all Movies released in the 90s (after year (1990) and before 2000) ordered from old to recent."
   ]
  },
  {
   "cell_type": "code",
   "execution_count": null,
   "metadata": {},
   "outputs": [],
   "source": [
    "###YOUR CODE HERE"
   ]
  },
  {
   "cell_type": "markdown",
   "metadata": {},
   "source": [
    "#### Get Movies and Actors from your \"movies\" DB\n",
    "* Hint : use the <code>'$lookup'</code> operator.\n",
    "* The Result should be something like the following:\n",
    "<code>\n",
    "Charlie Sheen : Wall Street\n",
    "Michael Douglas : Wall Street\n",
    "Martin Sheen : Wall Street\n",
    "Michael Douglas : The American President\n",
    "Martin Sheen : The American President\n",
    "Morgan Freeman : The Shawshank Redemption\n",
    "</code>"
   ]
  },
  {
   "cell_type": "code",
   "execution_count": null,
   "metadata": {},
   "outputs": [],
   "source": [
    "###YOUR CODE HERE"
   ]
  },
  {
   "cell_type": "markdown",
   "metadata": {},
   "source": [
    "#### For each Actor, get count of \"Movies\" he acted in."
   ]
  },
  {
   "cell_type": "code",
   "execution_count": null,
   "metadata": {},
   "outputs": [],
   "source": [
    "###YOUR CODE HERE"
   ]
  },
  {
   "cell_type": "markdown",
   "metadata": {},
   "source": [
    "#### In your DB, list the movies that every Actor played"
   ]
  },
  {
   "cell_type": "code",
   "execution_count": null,
   "metadata": {},
   "outputs": [],
   "source": [
    "###YOUR CODE HERE"
   ]
  },
  {
   "cell_type": "markdown",
   "metadata": {},
   "source": [
    "#### Get the Persons/Actors who acted in \"Wall Street\" movie\n",
    "- Hint use `$lookup` , `$match` operators in the aggregation piepeline"
   ]
  },
  {
   "cell_type": "code",
   "execution_count": null,
   "metadata": {},
   "outputs": [],
   "source": [
    "###YOUR CODE HERE"
   ]
  },
  {
   "cell_type": "markdown",
   "metadata": {},
   "source": [
    "#### Get the Movies in which \"Micheal Douglas\" has played a role in"
   ]
  },
  {
   "cell_type": "code",
   "execution_count": null,
   "metadata": {},
   "outputs": [],
   "source": [
    "###YOUR CODE HERE"
   ]
  },
  {
   "cell_type": "markdown",
   "metadata": {},
   "source": [
    "#### Get count of \"Movies\" in your DB"
   ]
  },
  {
   "cell_type": "code",
   "execution_count": null,
   "metadata": {},
   "outputs": [],
   "source": [
    "###YOUR CODE HERE"
   ]
  },
  {
   "cell_type": "markdown",
   "metadata": {},
   "source": [
    "#### update the year of the 'Wall Street' movie was released in to be 2000(which is not true BTW :)\n",
    "- Show that movie before and After updating it"
   ]
  },
  {
   "cell_type": "code",
   "execution_count": null,
   "metadata": {},
   "outputs": [],
   "source": [
    "###YOUR CODE HERE"
   ]
  },
  {
   "cell_type": "markdown",
   "metadata": {},
   "source": [
    "####  Delete all the persons with names start with 'M' letter."
   ]
  },
  {
   "cell_type": "code",
   "execution_count": null,
   "metadata": {},
   "outputs": [],
   "source": [
    "###YOUR CODE HERE"
   ]
  },
  {
   "cell_type": "markdown",
   "metadata": {},
   "source": [
    "### Task 2: Extend your Mongo-\"MovieDB\" \n",
    "\n",
    "Imagine now that we are going to extend our DB with new movies, actors, even with new directors.\n",
    "\n",
    "- We add <b>**\"The matrix\"**</b> movie which was released in <b> USA, (1999)</b>, and has a new property/field \"Tagline\" <b>(\"Welcome to the Real World\")</b>.\n",
    " \n",
    "- We will also add 4 new actors (Person):\n",
    "    - **\"Keanu Reeves\"** who was born in (1964). <font color='green'>Note:</font> \"born\" property is also new.\n",
    "    - **\"Carrie-Anne Moss\"** who was born in (1967).\n",
    "    - **\"Laurence Fishburne\"** who was born in (1960).\n",
    "    - **\"Hugo Weaving\"** who was born in (1960).\n",
    "    \n",
    "- Moreover, we add 2 directors (Person) :\n",
    "    - **\"Lilly Wachowski\"**, born in (1967)\n",
    "    - **\"Lana Wachowski\"**, born in(1965)\n",
    "- For these directors specify one more label/field as (\"Director\"). (You can add this while inserting the director documents)\n",
    "    \n",
    " \n",
    "- We will also create a new <b>collection \"Directed\" </b> that is directed from the later 2 directors to \"the Matrix\" movie."
   ]
  },
  {
   "cell_type": "markdown",
   "metadata": {},
   "source": [
    "#### Add the Movie \"The Matrix\" with the provided data to the Movies collection"
   ]
  },
  {
   "cell_type": "code",
   "execution_count": null,
   "metadata": {},
   "outputs": [],
   "source": [
    "###YOUR CODE HERE"
   ]
  },
  {
   "cell_type": "markdown",
   "metadata": {},
   "source": [
    "#### Insert the new 4 actors to the person collection"
   ]
  },
  {
   "cell_type": "code",
   "execution_count": null,
   "metadata": {},
   "outputs": [],
   "source": [
    "#Notice, How is easy to add a new feild compared to the RDB\n",
    "newActorList = [\n",
    "  { \"id\": 5, \"name\": \"Keanu Reeves\", \"born\":1964 },\n",
    "  { \"id\": 6, \"name\": \"Carrie-Anne Moss\", \"born\":1967},\n",
    "  { \"id\": 7, \"name\": \"Laurence Fishburne\", \"born\":1960},\n",
    "  { \"id\": 8, \"name\": \"Hugo Weaving\", \"born\":1960}\n",
    "]\n",
    "\n",
    "###YOUR CODE HERE"
   ]
  },
  {
   "cell_type": "markdown",
   "metadata": {},
   "source": [
    "#### Insert the new 2 directors to the person collection"
   ]
  },
  {
   "cell_type": "code",
   "execution_count": null,
   "metadata": {},
   "outputs": [],
   "source": [
    "###YOUR CODE HERE"
   ]
  },
  {
   "cell_type": "markdown",
   "metadata": {},
   "source": [
    "#### Create the \"Directed\" collection, and insert the data into it "
   ]
  },
  {
   "cell_type": "code",
   "execution_count": null,
   "metadata": {},
   "outputs": [],
   "source": [
    "###YOUR CODE HERE"
   ]
  },
  {
   "cell_type": "markdown",
   "metadata": {},
   "source": [
    "#### Get only the directors from the person collection (i.e. persons marked with the label \"Director\")"
   ]
  },
  {
   "cell_type": "code",
   "execution_count": null,
   "metadata": {},
   "outputs": [],
   "source": [
    "###YOUR CODE HERE"
   ]
  },
  {
   "cell_type": "markdown",
   "metadata": {},
   "source": [
    "#### Perform a query that get persons (names, and born year) who Directed \"The Matrix\" movie."
   ]
  },
  {
   "cell_type": "code",
   "execution_count": null,
   "metadata": {},
   "outputs": [],
   "source": [
    "###YOUR CODE HERE"
   ]
  },
  {
   "cell_type": "markdown",
   "metadata": {},
   "source": [
    " ## How long did it take you to solve the homework?\n",
    " \n",
    "Please answer as precisely as you can. It does not affect your points or grade in any way. It is okey, if it took 0.5 hours or 24 hours. The collected information will be used to improve future homeworks."
   ]
  },
  {
   "cell_type": "markdown",
   "metadata": {},
   "source": [
    "<font color=\"red\"><b>Answer:</b></font>"
   ]
  },
  {
   "cell_type": "markdown",
   "metadata": {},
   "source": [
    "**<center> <font color='red'>THANK YOU FOR YOUR EFFORT!</font></center>**"
   ]
  }
 ],
 "metadata": {
  "kernelspec": {
   "display_name": "Python 3",
   "language": "python",
   "name": "python3"
  },
  "language_info": {
   "codemirror_mode": {
    "name": "ipython",
    "version": 3
   },
   "file_extension": ".py",
   "mimetype": "text/x-python",
   "name": "python",
   "nbconvert_exporter": "python",
   "pygments_lexer": "ipython3",
   "version": "3.7.3"
  }
 },
 "nbformat": 4,
 "nbformat_minor": 2
}
